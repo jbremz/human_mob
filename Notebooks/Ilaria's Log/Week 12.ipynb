{
 "cells": [
  {
   "cell_type": "markdown",
   "metadata": {},
   "source": [
    "# WEEK 12 (15/01/18)"
   ]
  },
  {
   "cell_type": "markdown",
   "metadata": {},
   "source": [
    "# Done\n",
    "* Sent $\\epsilon$ derivation to Tim $\\checkmark$\n",
    "* Redefined levels $\\checkmark$\n",
    "* Added surface area of each location to data so that we can change $\\gamma$ according to it $\\checkmark$\n",
    "* Wrote functions to calculate total area of clusters $\\checkmark$\n",
    "* Partially rewrote the epsilon function (so that it gives the difference between the level 0 flow and the clustered flow at whatever level we want) and deleted unused ODM functions\n",
    "\n",
    "### To Do\n",
    "* Think about $\\gamma$ parameter at different scales for the gravity model\n",
    "* Analyse individual locations and plot $\\epsilon$ to see pattern\n",
    "* Define typical length scale for distance as previously done so we can compare the plots\n",
    "* Derivation of epsilon with different masses\n",
    "* Rewrite eps_scale in object-oriented style\n",
    "\n",
    "\n",
    "### Questions\n",
    "* <font color='green'> Is it better to cluster each level starting from the previous one OR from the original unclustered locations and incrementing the distance? $\\rightarrow$ This will depend on our definition of clustering levels </font> (See Section 2)\n"
   ]
  },
  {
   "cell_type": "markdown",
   "metadata": {},
   "source": [
    "## 1. Definition of Levels"
   ]
  },
  {
   "cell_type": "markdown",
   "metadata": {},
   "source": [
    "We came to the conclusion that we should define the levels starting from the original distribution and increasing the distance each time, so there's no mismatch between our PW-centroids and the centroids as found by the algorithm we're using. "
   ]
  },
  {
   "cell_type": "code",
   "execution_count": 4,
   "metadata": {
    "collapsed": true
   },
   "outputs": [],
   "source": [
    "%load_ext autoreload\n",
    "%autoreload 2"
   ]
  },
  {
   "cell_type": "code",
   "execution_count": 5,
   "metadata": {
    "collapsed": true
   },
   "outputs": [],
   "source": [
    "from hm.analysis.scaling import eps_scale\n",
    "from hm.coarse_grain import clustering\n",
    "from hm.analysis.scaling.pop_tools import make_pop\n",
    "from matplotlib import pyplot as plt\n",
    "import pandas\n",
    "import seaborn as sns; sns.set()"
   ]
  },
  {
   "cell_type": "code",
   "execution_count": 6,
   "metadata": {},
   "outputs": [
    {
     "name": "stderr",
     "output_type": "stream",
     "text": [
      "/anaconda3/lib/python3.6/site-packages/ipykernel_launcher.py:2: UserWarning: Boolean Series key will be reindexed to match DataFrame index.\n",
      "  \n"
     ]
    }
   ],
   "source": [
    "df = pandas.read_csv(\"/Users/Ilaria/Documents/Imperial/MSci_Project/Code/human_mob/data/LSOA populations and areas 2011 (merged).csv\")\n",
    "lon_df = df[df['Easting'] < 561966][df['Easting'] > 493024][df['Northing'] < 207218][df['Northing'] > 150912]"
   ]
  },
  {
   "cell_type": "code",
   "execution_count": 9,
   "metadata": {
    "collapsed": true
   },
   "outputs": [],
   "source": [
    "d_max = [300, 500, 700, 1000, 1300]\n",
    "gamma = 2"
   ]
  },
  {
   "cell_type": "markdown",
   "metadata": {},
   "source": [
    "Now we can actually see the difference between the PW-centroids and the centroids after a few levels of clustering (as attempted in Week 11):"
   ]
  },
  {
   "cell_type": "code",
   "execution_count": null,
   "metadata": {},
   "outputs": [],
   "source": [
    "clusters = eps_scale.iterate(lon_df, d_max)[1]\n",
    "plt.plot(clusters.pw_centroids()[0], clusters.pw_centroids()[1], '.')\n",
    "clusters.viz_clusters()\n",
    "plt.title(\"PW Centroids\")\n",
    "\n",
    "clusters = eps_scale.iterate(lon_df, d_max)[1]\n",
    "plt.plot(clusters.centroids()[0], clusters.centroids()[1], '.')\n",
    "clusters.viz_clusters()\n",
    "plt.title(\"Centroids\")"
   ]
  },
  {
   "cell_type": "markdown",
   "metadata": {},
   "source": [
    "Well, we can't actually see it, but printing out the coordinates we can check they're not the same."
   ]
  },
  {
   "cell_type": "markdown",
   "metadata": {
    "collapsed": true
   },
   "source": [
    "## 2. Error function $\\epsilon$: what happens with the clusters?"
   ]
  },
  {
   "cell_type": "markdown",
   "metadata": {},
   "source": [
    "In weeks 3-9 we have analysed the error function $$\\epsilon = \\frac{T_{ib} - (T_{ij} + T_{ik})}{T_{ib}}$$ resulting from agglomerating 2 locations at random and comparing the flow between the 3 isolated locations and the 2 blocks of locations (single target + 2 clustered). For this, we simply used a random uniform distribution of locations over a 1x1 square lattice, each with uniform population distribution ($m_i = 1 \\forall i$).\n",
    "\n",
    "Now we want to see whether our observations are still valid in the complex case of a more realistic distribution of locations (this time we're using real data, so no mathematical function for $\\rho(x)$) over an arbitrary area and with a non-uniform population distribution.\n",
    "\n",
    "We need to find a way to **reduce our matrix of $\\epsilon_{ij}$ values** (parametrise?) so that we can study the pattern that these values follow in relation to our variables.\n",
    "\n",
    "We can identify **3 different variables**: \n",
    "1. the mass of a cluster $M$\n",
    "2. the size of a cluster $L$\n",
    "3. the distance between clusters $r$"
   ]
  },
  {
   "cell_type": "markdown",
   "metadata": {
    "collapsed": true
   },
   "source": [
    "### 2.1 $\\epsilon$ for individual clusters"
   ]
  },
  {
   "cell_type": "markdown",
   "metadata": {},
   "source": [
    "First, let's look at single values of $\\epsilon$ as a function of the inter-location (cluster) distance instead of the whole matrix."
   ]
  },
  {
   "cell_type": "markdown",
   "metadata": {},
   "source": [
    "#### 2.1.1 Level 1"
   ]
  },
  {
   "cell_type": "code",
   "execution_count": 12,
   "metadata": {},
   "outputs": [],
   "source": [
    "levels = eps_scale.iterate(lon_df, d_max)\n",
    "level_1 = levels[0]\n",
    "level_2 = levels[1]\n",
    "level_3 = levels[2]\n",
    "level_4 = levels[3]\n",
    "level_5 = levels[4]"
   ]
  },
  {
   "cell_type": "code",
   "execution_count": null,
   "metadata": {},
   "outputs": [],
   "source": [
    "eps_level_1 = eps_scale.epsilon(levels, 1, gamma, lon_df)"
   ]
  },
  {
   "cell_type": "code",
   "execution_count": 56,
   "metadata": {},
   "outputs": [
    {
     "data": {
      "image/png": "[encoded data removed]",
      "text/plain": [
       "<matplotlib.figure.Figure at 0x1c164574e0>"
      ]
     },
     "metadata": {},
     "output_type": "display_data"
    }
   ],
   "source": [
    "x = eps_scale.cluster_population(level_1).DM[10][1:] #distance of location 20 with all the others\n",
    "y = eps_level_1[10][1:]\n",
    "plt.scatter(x, y)\n",
    "plt.show()"
   ]
  },
  {
   "cell_type": "code",
   "execution_count": null,
   "metadata": {
    "collapsed": true
   },
   "outputs": [],
   "source": []
  }
 ],
 "metadata": {
  "kernelspec": {
   "display_name": "Python 3",
   "language": "python",
   "name": "python3"
  },
  "language_info": {
   "codemirror_mode": {
    "name": "ipython",
    "version": 3
   },
   "file_extension": ".py",
   "mimetype": "text/x-python",
   "name": "python",
   "nbconvert_exporter": "python",
   "pygments_lexer": "ipython3",
   "version": "3.6.2"
  }
 },
 "nbformat": 4,
 "nbformat_minor": 2
}
