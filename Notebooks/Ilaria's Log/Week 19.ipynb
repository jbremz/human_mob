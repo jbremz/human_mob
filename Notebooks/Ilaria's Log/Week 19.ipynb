{
 "cells": [
  {
   "cell_type": "markdown",
   "metadata": {},
   "source": [
    "# WEEK 19 (05/03/18)"
   ]
  },
  {
   "cell_type": "markdown",
   "metadata": {},
   "source": [
    "Time to prepare all the key plots in a standardised way (same label size, style, colours, etc.) and save them in high resolution.\n",
    "\n",
    "This notebook is a collection of code snippets to plot a few graphs containing results and some visualisations."
   ]
  },
  {
   "cell_type": "markdown",
   "metadata": {},
   "source": [
    "## Visualisations"
   ]
  },
  {
   "cell_type": "code",
   "execution_count": 81,
   "metadata": {},
   "outputs": [
    {
     "name": "stdout",
     "output_type": "stream",
     "text": [
      "The autoreload extension is already loaded. To reload it, use:\n",
      "  %reload_ext autoreload\n"
     ]
    }
   ],
   "source": [
    "%load_ext autoreload\n",
    "%autoreload 2\n",
    "\n",
    "import numpy as np\n",
    "import pandas \n",
    "from matplotlib import pyplot as plt\n",
    "import seaborn as sns\n",
    "\n",
    "from hm.pop_models.pop_explicit import explicit as pop_explicit\n",
    "from hm.analysis import random_tripoint as rt\n",
    "from hm.pop_models.pop_random import random as pop_random"
   ]
  },
  {
   "cell_type": "markdown",
   "metadata": {},
   "source": [
    "### Random Tripoint"
   ]
  },
  {
   "cell_type": "code",
   "execution_count": 247,
   "metadata": {},
   "outputs": [],
   "source": [
    "p = pop_random(100)"
   ]
  },
  {
   "cell_type": "code",
   "execution_count": 248,
   "metadata": {},
   "outputs": [],
   "source": [
    "x = p.locCoords[:,0]\n",
    "y = p.locCoords[:,1]\n",
    "\n",
    "b = np.random.choice(range(len(rt.neighbours(p)[1])))\n",
    "j, k = rt.neighbours(p)[1][b]\n",
    "\n",
    "while rt.neighbours(p)[0][j][1] < 0.05:\n",
    "    b = np.random.choice(range(len(rt.neighbours(p)[1])))\n",
    "    j, k = rt.neighbours(p)[1][b]\n",
    "    \n",
    "i = np.random.choice(range(len(rt.neighbours(p))))\n",
    "while rt.r_ib(p, i)[j-1] > 0.3:\n",
    "    i = np.random.choice(range(len(rt.neighbours(p))))"
   ]
  },
  {
   "cell_type": "code",
   "execution_count": 249,
   "metadata": {},
   "outputs": [],
   "source": [
    "mid_x = (x[j]+ x[k])/2\n",
    "mid_y = (y[j]+ y[k])/2"
   ]
  },
  {
   "cell_type": "code",
   "execution_count": null,
   "metadata": {},
   "outputs": [],
   "source": [
    "# Global settings\n",
    "plt.rcParams.update(plt.rcParamsDefault)\n",
    "plt.style.use('seaborn-deep')\n",
    "\n",
    "# Resolution\n",
    "fig = plt.figure(figsize=(800/110.27, 800/110.27), dpi=300)\n",
    "\n",
    "# Axes/tick labels\n",
    "plt.xlabel(r'x', fontsize=20)\n",
    "plt.ylabel(r'y', fontsize=20)\n",
    "plt.tick_params(axis='both', labelsize=15)\n",
    "\n",
    "# stops lables being cut off\n",
    "plt.tight_layout()\n",
    "\n",
    "plt.scatter(x, y,color= sns.xkcd_rgb[\"grey\"])\n",
    "\n",
    "#target location i\n",
    "plt.scatter(x[i], y[i],color= sns.xkcd_rgb[\"pale red\"], s = 150.)\n",
    "plt.annotate('i', (x[i], y[i]+0.01), size = 20)\n",
    "\n",
    "#clustered locations j, k\n",
    "plt.scatter(x[k], y[k], color= sns.xkcd_rgb[\"medium green\"], s = 150.)\n",
    "plt.annotate('k', (x[k]+0.02, y[k]-0.02), size = 20)\n",
    "plt.scatter(x[j], y[j], color= sns.xkcd_rgb[\"medium green\"], s = 150.)\n",
    "plt.annotate('j', (x[j]-0.03, y[j]+0.02), size = 20)\n",
    "\n",
    "#arrows for r_ib and r_jk\n",
    "plt.annotate(\"\", xytext=(x[i], y[i]), xy=(mid_x, mid_y),arrowprops=dict(arrowstyle=\"<->\", connectionstyle=\"arc3\"))\n",
    "plt.annotate(\"\", xy=(x[j], y[j]), xytext=(x[k], y[k]),arrowprops=dict(arrowstyle=\"<->\", connectionstyle=\"arc3\"))\n",
    "\n",
    "#text for r_ib and r_jk\n",
    "plt.annotate(\"$r_{jk}$\", (mid_x, mid_y+0.01), size = 20)\n",
    "plt.annotate(\"$r_{ib}$\", (0.50, 0.55), size = 20)\n",
    "\n",
    "plt.legend(frameon=False, fontsize=20)\n",
    "plt.savefig(\"random tripoint\", transparent=True)"
   ]
  },
  {
   "cell_type": "markdown",
   "metadata": {},
   "source": [
    "Radiation model plot:"
   ]
  },
  {
   "cell_type": "code",
   "execution_count": 257,
   "metadata": {},
   "outputs": [
    {
     "name": "stderr",
     "output_type": "stream",
     "text": [
      "/Users/Ilaria/anaconda3/lib/python3.6/site-packages/matplotlib/pyplot.py:523: RuntimeWarning: More than 20 figures have been opened. Figures created through the pyplot interface (`matplotlib.pyplot.figure`) are retained until explicitly closed and may consume too much memory. (To control this warning, see the rcParam `figure.max_open_warning`).\n",
      "  max_open_warning, RuntimeWarning)\n"
     ]
    }
   ],
   "source": [
    "# Global settings\n",
    "plt.rcParams.update(plt.rcParamsDefault)\n",
    "plt.style.use('seaborn-deep')\n",
    "\n",
    "# Resolution\n",
    "fig = plt.figure(figsize=(800/110.27, 800/110.27), dpi=300)\n",
    "\n",
    "# Axes/tick labels\n",
    "plt.xlabel(r'x', fontsize=20)\n",
    "plt.ylabel(r'y', fontsize=20)\n",
    "plt.tick_params(axis='both', labelsize=15)\n",
    "\n",
    "# stops lables being cut off\n",
    "plt.tight_layout()\n",
    "\n",
    "plt.scatter(x, y,color= sns.xkcd_rgb[\"grey\"])\n",
    "plt.scatter(x[i], y[i],color= sns.xkcd_rgb[\"pale red\"], s = 150.)\n",
    "plt.annotate('i', (x[i], y[i]+0.01), size = 20)\n",
    "\n",
    "plt.scatter(x[j], y[j], color= sns.xkcd_rgb[\"medium green\"], s = 150.)\n",
    "plt.annotate('j', (x[j]-0.03, y[j]+0.02), size = 20)\n",
    "plt.annotate(\"$s_{ij}$\", (0.3, 0.6), size = 50)\n",
    "\n",
    "\n",
    "radius = np.sqrt((x[j]-x[i])**2 + (y[j]-y[i])**2)\n",
    "circle = plt.Circle((x[i], y[i]), radius, alpha = 0.1, linewidth = 10.)\n",
    "plt.gcf().gca().add_artist(circle)\n",
    "\n",
    "plt.savefig(\"random tripoint\", transparent=True)"
   ]
  },
  {
   "cell_type": "markdown",
   "metadata": {},
   "source": [
    "### Clusters"
   ]
  },
  {
   "cell_type": "markdown",
   "metadata": {},
   "source": [
    "#### UK"
   ]
  },
  {
   "cell_type": "markdown",
   "metadata": {},
   "source": [
    "Code to plot the all the UK locations clustered in a nice and clear way:"
   ]
  },
  {
   "cell_type": "code",
   "execution_count": 9,
   "metadata": {
    "collapsed": true
   },
   "outputs": [],
   "source": [
    "import fastcluster\n",
    "from scipy.cluster import hierarchy as hier\n",
    "\n",
    "from hm.coarse_grain import clustering\n",
    "import seaborn as sns; sns.set()"
   ]
  },
  {
   "cell_type": "code",
   "execution_count": 5,
   "metadata": {
    "collapsed": true
   },
   "outputs": [],
   "source": [
    "df = pandas.read_csv(\"/Users/Ilaria/Documents/Imperial/MSci_Project/Code/human_mob/data/LSOA populations and areas 2011 (merged).csv\")"
   ]
  },
  {
   "cell_type": "code",
   "execution_count": null,
   "metadata": {
    "collapsed": true
   },
   "outputs": [],
   "source": [
    "df = pandas.read_csv(\"/Users/Ilaria/Documents/Imperial/MSci_Project/Code/human_mob/data/LSOA populations and areas 2011 (merged).csv\")\n",
    "x = np.array(df)[:,5]\n",
    "y = np.array(df)[:,6]\n",
    "m = np.array(df)[:,2]\n",
    "xy = np.array([x, y])\n",
    "xy = np.transpose(xy)\n",
    "#NB: the new version of pop_explicit() calls the pdist() function at initialisation\n",
    "#this results in a long runtime (and RAM usage) for the whole of the UK dataset\n",
    "#--> comment out the DM matrix function in the main code to avoid this\n",
    "p = pop_explicit(xy, m)"
   ]
  },
  {
   "cell_type": "code",
   "execution_count": null,
   "metadata": {
    "collapsed": true
   },
   "outputs": [],
   "source": [
    "plt.rcParams.update(plt.rcParamsDefault)\n",
    "plt.style.use('seaborn-deep')\n",
    "plt.figure(figsize=(900/110.27, 1200/110.27), dpi = 300)\n",
    "plt.xlabel(r'Eastings (Km)', fontsize=20)\n",
    "plt.ylabel(r'Northings (Km)', fontsize=20)\n",
    "plt.tick_params(axis='both', labelsize=15)\n",
    "plt.ticklabel_format(style='sci')\n",
    "plt.axis('equal')\n",
    "xy = p.locCoords\n",
    "palette = sns.color_palette()\n",
    "palette = palette*int(len(clus)/6)\n",
    "colors = []\n",
    "for i in clus:\n",
    "    colors.append(palette[i])\n",
    "plt.scatter(xy[:,0], xy[:,1], s = .8, c = colors)\n",
    "plt.savefig('UK', transparent=True)"
   ]
  },
  {
   "cell_type": "markdown",
   "metadata": {},
   "source": [
    "#### London (Voronoi tesselation)"
   ]
  },
  {
   "cell_type": "code",
   "execution_count": 1,
   "metadata": {
    "collapsed": true
   },
   "outputs": [],
   "source": [
    "from scipy.spatial import Voronoi, voronoi_plot_2d"
   ]
  },
  {
   "cell_type": "code",
   "execution_count": 6,
   "metadata": {},
   "outputs": [
    {
     "name": "stderr",
     "output_type": "stream",
     "text": [
      "/Users/Ilaria/anaconda3/lib/python3.6/site-packages/ipykernel_launcher.py:1: UserWarning: Boolean Series key will be reindexed to match DataFrame index.\n",
      "  \"\"\"Entry point for launching an IPython kernel.\n"
     ]
    }
   ],
   "source": [
    "lon_df = df[df['Easting'] < 561966][df['Easting'] > 493024][df['Northing'] < 207218][df['Northing'] > 150912]"
   ]
  },
  {
   "cell_type": "code",
   "execution_count": 7,
   "metadata": {
    "collapsed": true
   },
   "outputs": [],
   "source": [
    "x_lon = np.array(lon_df)[:,5]\n",
    "y_lon = np.array(lon_df)[:,6]\n",
    "m_lon = np.array(lon_df)[:,2]\n",
    "xy_lon = np.array([x_lon, y_lon])\n",
    "xy_lon = np.transpose(xy_lon)\n",
    "p_lon = pop_explicit(xy_lon, m_lon)"
   ]
  },
  {
   "cell_type": "code",
   "execution_count": 8,
   "metadata": {
    "collapsed": true
   },
   "outputs": [],
   "source": [
    "lon_2000 = clustering.Clusters(p_lon, 2000)"
   ]
  },
  {
   "cell_type": "code",
   "execution_count": null,
   "metadata": {
    "collapsed": true
   },
   "outputs": [],
   "source": [
    "lon_200.viz_clusters()"
   ]
  }
 ],
 "metadata": {
  "kernelspec": {
   "display_name": "Python 3",
   "language": "python",
   "name": "python3"
  },
  "language_info": {
   "codemirror_mode": {
    "name": "ipython",
    "version": 3
   },
   "file_extension": ".py",
   "mimetype": "text/x-python",
   "name": "python",
   "nbconvert_exporter": "python",
   "pygments_lexer": "ipython3",
   "version": "3.6.3"
  }
 },
 "nbformat": 4,
 "nbformat_minor": 2
}
