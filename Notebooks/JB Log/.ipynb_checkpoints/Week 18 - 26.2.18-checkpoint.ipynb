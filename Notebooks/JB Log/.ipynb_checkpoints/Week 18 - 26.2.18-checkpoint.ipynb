{
 "cells": [
  {
   "cell_type": "markdown",
   "metadata": {},
   "source": [
    "# Week 18 - 26/2/18\n",
    "\n",
    "**OBJECTIVES**\n",
    "\n",
    "- try to reproduce the radiation results from week 8\n",
    "- think about changing the gravity to average over runs"
   ]
  },
  {
   "cell_type": "code",
   "execution_count": 1,
   "metadata": {},
   "outputs": [],
   "source": [
    "%load_ext autoreload\n",
    "%autoreload 2"
   ]
  },
  {
   "cell_type": "code",
   "execution_count": 2,
   "metadata": {},
   "outputs": [],
   "source": [
    "from hm.analysis.explicit_tripoint import epsChangeYRatio_r, epsChangeXRatio_r, epsChangeY_r, epsChangeX_r"
   ]
  },
  {
   "cell_type": "markdown",
   "metadata": {},
   "source": [
    "Still think I need to change epsilon_r in the same way I've changed epsilon_g"
   ]
  },
  {
   "cell_type": "code",
   "execution_count": null,
   "metadata": {},
   "outputs": [],
   "source": [
    "epsChangeY_r(0.001,0.08, 0.3, 100, 1000, runs=50, ib=True, analytical=True)"
   ]
  }
 ],
 "metadata": {
  "kernelspec": {
   "display_name": "Python 3",
   "language": "python",
   "name": "python3"
  },
  "language_info": {
   "codemirror_mode": {
    "name": "ipython",
    "version": 3
   },
   "file_extension": ".py",
   "mimetype": "text/x-python",
   "name": "python",
   "nbconvert_exporter": "python",
   "pygments_lexer": "ipython3",
   "version": "3.6.3"
  }
 },
 "nbformat": 4,
 "nbformat_minor": 2
}
