{
 "cells": [
  {
   "cell_type": "markdown",
   "metadata": {},
   "source": [
    "# Week 7 - 22/11/17\n",
    "\n",
    "\n",
    "**Main objectives:**\n",
    "\n",
    "- Average the epsChangeY/X with multiple distributions to see if the results match with the analytical form better (with error bars?).\n",
    "- Try optimising $m_b$ for a better fit.\n",
    "- Plot radiation model analytical form vs. analytical form.\n",
    "- Chi-squared\n",
    "\n",
    "**Completed objectives:**\n",
    "\n",
    "- Plot the theory-simulation ratio rather than the just them on top of eachother.\n"
   ]
  },
  {
   "cell_type": "code",
   "execution_count": 1,
   "metadata": {},
   "outputs": [],
   "source": [
    "from hm.analysis.explicit_tripoint import epsChangeYRatio, epsChangeXRatio"
   ]
  },
  {
   "cell_type": "markdown",
   "metadata": {},
   "source": [
    "## Plotting ratio $\\frac{\\epsilon_{sim}}{\\epsilon_{ana}}$"
   ]
  },
  {
   "cell_type": "code",
   "execution_count": 8,
   "metadata": {},
   "outputs": [
    {
     "data": {
      "image/png": "[encoded data removed]",
      "text/plain": [
       "<matplotlib.figure.Figure at 0x11630e3c8>"
      ]
     },
     "metadata": {},
     "output_type": "display_data"
    }
   ],
   "source": [
    "epsChangeYRatio(0.01,0.3, 0.4, 50, 1000, runs=10, gamma=2, exp=True, ib=True)"
   ]
  },
  {
   "cell_type": "markdown",
   "metadata": {},
   "source": [
    "This makes sense - for some reason the simulated version seems to tend to some constant value for small $r_{jk}$, not sure why this is. The analytical form instead tends to zero as one might expect, therefore the ratio blows up."
   ]
  },
  {
   "cell_type": "code",
   "execution_count": 14,
   "metadata": {},
   "outputs": [
    {
     "data": {
      "image/png": "[encoded data removed]",
      "text/plain": [
       "<matplotlib.figure.Figure at 0x112c488d0>"
      ]
     },
     "metadata": {},
     "output_type": "display_data"
    }
   ],
   "source": [
    "epsChangeXRatio(0.001,0.3, 0.03, 50, 1000, runs=10, gamma=2, exp=True, ib=True)"
   ]
  },
  {
   "cell_type": "markdown",
   "metadata": {},
   "source": [
    "## Analytical form of $\\epsilon$ for radiation model\n",
    "\n",
    "Ilaria found the form as:\n",
    "\n",
    "$$\\epsilon = \\frac{3+ \\pi \\rho r_{ib}^2 - m_i - m_j}{2 + \\pi \\rho (r_{ib}^2 + \\frac{r_{jk}}{2}^2)}$$"
   ]
  }
 ],
 "metadata": {
  "kernelspec": {
   "display_name": "Python 3",
   "language": "python",
   "name": "python3"
  },
  "language_info": {
   "codemirror_mode": {
    "name": "ipython",
    "version": 3
   },
   "file_extension": ".py",
   "mimetype": "text/x-python",
   "name": "python",
   "nbconvert_exporter": "python",
   "pygments_lexer": "ipython3",
   "version": "3.6.3"
  }
 },
 "nbformat": 4,
 "nbformat_minor": 2
}
