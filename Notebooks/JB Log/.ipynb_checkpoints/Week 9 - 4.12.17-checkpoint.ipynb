{
 "cells": [
  {
   "cell_type": "markdown",
   "metadata": {},
   "source": [
    "# Week 9 - 4/12/17\n",
    "\n",
    "\n",
    "**Main objectives:**\n",
    "\n",
    "- Start thinking about population distributions"
   ]
  },
  {
   "cell_type": "markdown",
   "metadata": {},
   "source": [
    "## Population Model Notes\n",
    "\n",
    "\n",
    "- Batty Chapter on DBM and DLA CA Models - http://www.fractalcities.org/book/Fractal%20Cities%20Chapter%208.pdf\n",
    "- DLA Cluster Python implementation - https://github.com/ksenia007/dlaCluster\n",
    "-  Cellular Automata and Urban Form: A Primer - http://www.casa.ucl.ac.uk/rits/BATTY-JAPA-1997.pdf"
   ]
  }
 ],
 "metadata": {
  "kernelspec": {
   "display_name": "Python 3",
   "language": "python",
   "name": "python3"
  },
  "language_info": {
   "codemirror_mode": {
    "name": "ipython",
    "version": 3
   },
   "file_extension": ".py",
   "mimetype": "text/x-python",
   "name": "python",
   "nbconvert_exporter": "python",
   "pygments_lexer": "ipython3",
   "version": "3.6.3"
  }
 },
 "nbformat": 4,
 "nbformat_minor": 2
}
