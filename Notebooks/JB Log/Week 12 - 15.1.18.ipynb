{
 "cells": [
  {
   "cell_type": "markdown",
   "metadata": {},
   "source": [
    "# Week 12 - 15/1/18\n",
    "\n",
    "**OBJECTIVES**\n",
    "\n",
    "- Send Tim the analytical form for epsilon derivation\n",
    "- Start thinking about analysis for certain locations at particular distances"
   ]
  },
  {
   "cell_type": "code",
   "execution_count": 1,
   "metadata": {},
   "outputs": [],
   "source": [
    "%load_ext autoreload\n",
    "%autoreload 2"
   ]
  },
  {
   "cell_type": "markdown",
   "metadata": {},
   "source": [
    "## Single Location Analysis\n",
    "\n",
    "We want to start by picking a single location and plotting epsilon vs. distance, will need a bit of messing around to access the ODM."
   ]
  },
  {
   "cell_type": "code",
   "execution_count": 9,
   "metadata": {},
   "outputs": [],
   "source": [
    "import pandas as pd\n",
    "import numpy as np\n",
    "from matplotlib import pyplot as plt\n",
    "\n",
    "from hm.coarse_grain import clustering\n",
    "from hm.analysis.scaling import eps_scale\n",
    "from hm.analysis.scaling.pop_tools import make_pop\n",
    "from hm.hm_models.gravity import gravity"
   ]
  },
  {
   "cell_type": "code",
   "execution_count": 4,
   "metadata": {},
   "outputs": [
    {
     "name": "stderr",
     "output_type": "stream",
     "text": [
      "/Users/JBremner/Envs/msci/lib/python3.6/site-packages/ipykernel_launcher.py:2: UserWarning: Boolean Series key will be reindexed to match DataFrame index.\n",
      "  \n"
     ]
    }
   ],
   "source": [
    "df = pd.read_csv(\"../../data/CDRC/england_welsh_scotland_pwc2011.csv\")\n",
    "lon_df = df[df['Easting'] < 561966][df['Easting'] > 493024][df['Northing'] < 207218][df['Northing'] > 150912]"
   ]
  },
  {
   "cell_type": "code",
   "execution_count": 14,
   "metadata": {},
   "outputs": [],
   "source": [
    "p = make_pop(lon_df)\n",
    "g = gravity(p, 1, 1, 2)"
   ]
  },
  {
   "cell_type": "code",
   "execution_count": 15,
   "metadata": {},
   "outputs": [
    {
     "data": {
      "text/plain": [
       "array([[  0.00000000e+00,   1.67922134e+02,   1.05263006e+02, ...,\n",
       "          7.30938976e-03,   1.01772665e-02,   1.48629913e-01],\n",
       "       [  1.86601080e+02,   0.00000000e+00,   5.00073768e+01, ...,\n",
       "          9.35610526e-03,   1.33126852e-02,   2.02840184e-01],\n",
       "       [  1.29985654e+02,   5.55709115e+01,   0.00000000e+00, ...,\n",
       "          1.20630580e-02,   1.64171370e-02,   2.35045108e-01],\n",
       "       ..., \n",
       "       [  4.76826825e-03,   5.49247958e-03,   6.37260971e-03, ...,\n",
       "          0.00000000e+00,   2.86044543e-03,   3.89867794e-03],\n",
       "       [  1.13806197e-02,   1.33965885e-02,   1.48666299e-02, ...,\n",
       "          4.90330457e-03,   0.00000000e+00,   1.71404978e-02],\n",
       "       [  6.00462754e-01,   7.37441607e-01,   7.68973565e-01, ...,\n",
       "          2.41444685e-02,   6.19253566e-02,   0.00000000e+00]])"
      ]
     },
     "execution_count": 15,
     "metadata": {},
     "output_type": "execute_result"
    }
   ],
   "source": [
    "g.ODM()"
   ]
  },
  {
   "cell_type": "code",
   "execution_count": null,
   "metadata": {},
   "outputs": [],
   "source": [
    "plt."
   ]
  },
  {
   "cell_type": "markdown",
   "metadata": {},
   "source": [
    "## Problems with $\\gamma$ exponent in the gravity model\n",
    "\n",
    "We need a realistic value for $\\gamma$ to use to calculate the ODMs. The problem is, this scales with area of the population unit (in our case the LSOA). This is a problem once we start to rescale since there is now another variable introduced.\n",
    "\n",
    "An approximation is perhaps to find the average distance between locations at each level and use this as the diameter of a circle with an area equal to the area we'll use. I need to find the paper which discusses this.\n",
    "\n",
    "Actually, probably better still is the area of the Voronoi tesselation elements.\n",
    "\n",
    "Details on how to estimate $\\beta$ page 10 [here](https://arxiv.org/pdf/1506.04889.pdf). They suggest for exponential decay gravity model:\n",
    "\n",
    "$$\\beta = 0.3 <S>^{-0.18},$$\n",
    "\n",
    "where $<S>$ is the average area of the unit location."
   ]
  }
 ],
 "metadata": {
  "kernelspec": {
   "display_name": "Python 3",
   "language": "python",
   "name": "python3"
  },
  "language_info": {
   "codemirror_mode": {
    "name": "ipython",
    "version": 3
   },
   "file_extension": ".py",
   "mimetype": "text/x-python",
   "name": "python",
   "nbconvert_exporter": "python",
   "pygments_lexer": "ipython3",
   "version": "3.6.3"
  }
 },
 "nbformat": 4,
 "nbformat_minor": 2
}
