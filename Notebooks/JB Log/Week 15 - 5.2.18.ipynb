{
 "cells": [
  {
   "cell_type": "markdown",
   "metadata": {},
   "source": [
    "# Week 15 - 5/2/18\n",
    "\n",
    "**OBJECTIVES**\n",
    "\n",
    "- See if we can work out a form for $\\gamma$ which minimises $\\epsilon$ when scaling\n",
    "- Look deeper to see whether it matters if you use the real London dataset or random/uniform etc."
   ]
  },
  {
   "cell_type": "code",
   "execution_count": 1,
   "metadata": {
    "scrolled": true
   },
   "outputs": [],
   "source": [
    "%load_ext autoreload\n",
    "%autoreload 2"
   ]
  },
  {
   "cell_type": "markdown",
   "metadata": {},
   "source": [
    "## Exploring heterogeneity effects\n",
    "\n",
    "We want to know whether the specific distribution of a city really affects the $\\epsilon$ values, let's try **four different cases**: Original London Distribution (**OLD**), LD but with uniform masses (**ULD**), LD but with random locations (**RLD**), and then a random distribution with uniform masses (**RUD**)."
   ]
  },
  {
   "cell_type": "code",
   "execution_count": 2,
   "metadata": {},
   "outputs": [],
   "source": [
    "import matplotlib.pyplot as plt\n",
    "import pandas as pd\n",
    "from hm.analysis.scaling.plots import *\n",
    "from hm.analysis.scaling.pop_hierarchy import pop_hier"
   ]
  },
  {
   "cell_type": "code",
   "execution_count": 3,
   "metadata": {
    "scrolled": true
   },
   "outputs": [],
   "source": [
    "master_df = pd.read_csv(\"../../data/LSOA populations and areas 2011 (merged).csv\")"
   ]
  },
  {
   "cell_type": "code",
   "execution_count": null,
   "metadata": {
    "scrolled": true
   },
   "outputs": [],
   "source": [
    "lon_df = master_df[master_df['Easting'] < 561966][master_df['Easting'] > 493024][master_df['Northing'] < 207218][master_df['Northing'] > 150912]"
   ]
  },
  {
   "cell_type": "code",
   "execution_count": 20,
   "metadata": {
    "scrolled": true
   },
   "outputs": [],
   "source": [
    "d_maxs = [1000]\n",
    "df = lon_df\n",
    "N = 20 # number of bins"
   ]
  },
  {
   "cell_type": "markdown",
   "metadata": {},
   "source": [
    "Just get some values from the original data that will be useful."
   ]
  },
  {
   "cell_type": "code",
   "execution_count": 6,
   "metadata": {},
   "outputs": [
    {
     "data": {
      "text/plain": [
       "635647.08726675005"
      ]
     },
     "execution_count": 6,
     "metadata": {},
     "output_type": "execute_result"
    }
   ],
   "source": [
    "df['Area'].mean()"
   ]
  },
  {
   "cell_type": "code",
   "execution_count": 9,
   "metadata": {},
   "outputs": [
    {
     "data": {
      "text/plain": [
       "1678.4175878567894"
      ]
     },
     "execution_count": 9,
     "metadata": {},
     "output_type": "execute_result"
    }
   ],
   "source": [
    "df['TotPop2011'].mean()"
   ]
  },
  {
   "cell_type": "code",
   "execution_count": 7,
   "metadata": {},
   "outputs": [
    {
     "data": {
      "text/plain": [
       "6061"
      ]
     },
     "execution_count": 7,
     "metadata": {},
     "output_type": "execute_result"
    }
   ],
   "source": [
    "len(df)"
   ]
  },
  {
   "cell_type": "code",
   "execution_count": 14,
   "metadata": {},
   "outputs": [
    {
     "data": {
      "text/plain": [
       "count      6061.000000\n",
       "mean     179971.964197\n",
       "std       10945.227788\n",
       "min      150941.000000\n",
       "25%      172677.000000\n",
       "50%      180420.000000\n",
       "75%      187313.000000\n",
       "max      207206.000000\n",
       "Name: Northing, dtype: float64"
      ]
     },
     "execution_count": 14,
     "metadata": {},
     "output_type": "execute_result"
    }
   ],
   "source": [
    "df['Easting'].describe()"
   ]
  },
  {
   "cell_type": "code",
   "execution_count": 15,
   "metadata": {},
   "outputs": [
    {
     "data": {
      "text/plain": [
       "count      6061.000000\n",
       "mean     179971.964197\n",
       "std       10945.227788\n",
       "min      150941.000000\n",
       "25%      172677.000000\n",
       "50%      180420.000000\n",
       "75%      187313.000000\n",
       "max      207206.000000\n",
       "Name: Northing, dtype: float64"
      ]
     },
     "execution_count": 15,
     "metadata": {},
     "output_type": "execute_result"
    }
   ],
   "source": [
    "df['Northing'].describe()"
   ]
  },
  {
   "cell_type": "markdown",
   "metadata": {},
   "source": [
    "Now create the new dataframes."
   ]
  },
  {
   "cell_type": "code",
   "execution_count": 18,
   "metadata": {},
   "outputs": [],
   "source": [
    "# Original London\n",
    "OLD_df = df.copy()\n",
    "\n",
    "# Uniform Masses\n",
    "ULD_df = df.copy()\n",
    "ULD_df['TotPop2011'] = df['TotPop2011'].mean() # not an integer but I don't think this will make a difference\n",
    "\n",
    "# Random Locations\n",
    "RLD_df = df.copy()\n",
    "# just scale the coordinates to be bounded by the same values as the dataset\n",
    "locs = np.random.rand(len(df),2)*np.array([df['Easting'].max()-df['Easting'].min(), df['Northing'].max()-df['Northing'].min()]) + np.array([df['Easting'].min(), df['Northing'].min()])\n",
    "RLD_df['Easting'] = locs[:,0]\n",
    "RLD_df['Northing'] = locs[:,1]\n",
    "\n",
    "# Random locations and uniform masses\n",
    "RUD_df = df.copy()\n",
    "RUD_df['Easting'] = locs[:,0]\n",
    "RUD_df['Northing'] = locs[:,1]\n",
    "RUD_df['TotPop2011'] = df['TotPop2011'].mean()"
   ]
  },
  {
   "cell_type": "code",
   "execution_count": 21,
   "metadata": {
    "scrolled": true
   },
   "outputs": [],
   "source": [
    "OLD_h = pop_hier(OLD_df, d_maxs)\n",
    "ULD_h = pop_hier(ULD_df, d_maxs)\n",
    "RLD_h = pop_hier(RLD_df, d_maxs)\n",
    "RUD_h = pop_hier(RUD_df, d_maxs)"
   ]
  },
  {
   "cell_type": "markdown",
   "metadata": {},
   "source": [
    "Let's use Level 3 ($d_{max} = 1000$) for all distributions."
   ]
  },
  {
   "cell_type": "code",
   "execution_count": null,
   "metadata": {
    "scrolled": true
   },
   "outputs": [],
   "source": [
    "OLD_epsList, OLD_DMList = eps_hier(OLD_h, model='g')"
   ]
  },
  {
   "cell_type": "code",
   "execution_count": null,
   "metadata": {
    "scrolled": true
   },
   "outputs": [],
   "source": [
    "ULD_epsList, ULD_DMList = eps_hier(ULD_h, model='g')"
   ]
  },
  {
   "cell_type": "markdown",
   "metadata": {},
   "source": [
    "This is three times as quick with uniform masses, interesting."
   ]
  },
  {
   "cell_type": "code",
   "execution_count": null,
   "metadata": {},
   "outputs": [],
   "source": [
    "RLD_epsList, RLD_DMList = eps_hier(RLD_h, model='g')"
   ]
  },
  {
   "cell_type": "code",
   "execution_count": null,
   "metadata": {},
   "outputs": [],
   "source": [
    "RUD_epsList, RUD_DMList = eps_hier(RUD_h, model='g')"
   ]
  },
  {
   "cell_type": "code",
   "execution_count": 27,
   "metadata": {},
   "outputs": [],
   "source": [
    "epsList = [OLD_epsList[0], ULD_epsList[0], RLD_epsList[0], RUD_epsList[0]]\n",
    "DMList = [OLD_DMList[0], ULD_DMList[0], RLD_DMList[0], RUD_DMList[0]]"
   ]
  },
  {
   "cell_type": "code",
   "execution_count": 33,
   "metadata": {},
   "outputs": [
    {
     "data": {
      "image/png": "[encoded data removed]",
      "text/plain": [
       "<matplotlib.figure.Figure at 0x1145ede48>"
      ]
     },
     "metadata": {},
     "output_type": "display_data"
    }
   ],
   "source": [
    "eps_distance_hier(epsList, DMList, ['OLD','ULD','RLD','RUD'], 40)\n",
    "plt.show()"
   ]
  },
  {
   "cell_type": "markdown",
   "metadata": {},
   "source": [
    "*So* this tells us that whilst uniform mass doesn't really change $\\epsilon$, the location distribution *does*. This is nice because it means that we can probably use a uniform mass distribution which gives us a 3x speed up."
   ]
  },
  {
   "cell_type": "markdown",
   "metadata": {},
   "source": [
    "## Effects of number of locations \n",
    "\n",
    "To optimise, it'd be ideal if we could use a small number of locations for speed. Therefore I'm going to plot epsilon as above but instead making different sizes of random selection from the dataset. "
   ]
  },
  {
   "cell_type": "code",
   "execution_count": 38,
   "metadata": {},
   "outputs": [],
   "source": [
    "dEdN = np.array([df['Easting'].max()-df['Easting'].min(), df['Northing'].max()-df['Northing'].min()])"
   ]
  },
  {
   "cell_type": "code",
   "execution_count": 72,
   "metadata": {},
   "outputs": [
    {
     "data": {
      "text/plain": [
       "array([493171, 150941])"
      ]
     },
     "execution_count": 72,
     "metadata": {},
     "output_type": "execute_result"
    }
   ],
   "source": [
    "minEminN = np.array([df['Easting'].min(), df['Northing'].min()])\n",
    "minEminN"
   ]
  },
  {
   "cell_type": "code",
   "execution_count": 73,
   "metadata": {},
   "outputs": [
    {
     "data": {
      "text/plain": [
       "array([[ 510350.5 ,  165007.25],\n",
       "       [ 527530.  ,  179073.5 ],\n",
       "       [ 544709.5 ,  193139.75],\n",
       "       [ 561889.  ,  207206.  ]])"
      ]
     },
     "execution_count": 73,
     "metadata": {},
     "output_type": "execute_result"
    }
   ],
   "source": [
    "windows = np.array([np.linspace(minEminN[0], minEminN[0]+dEdN[0], 5)[1:], np.linspace(minEminN[1], minEminN[1]+dEdN[1], 5)[1:]]).T\n",
    "windows"
   ]
  },
  {
   "cell_type": "code",
   "execution_count": 55,
   "metadata": {},
   "outputs": [],
   "source": [
    "def slice_df(df, window, minEminN):\n",
    "    ndf = df[df['Easting'] < window[0]][df['Easting'] > minEminN[0]][df['Northing'] < window[1]][df['Northing'] > minEminN[1]]\n",
    "    return ndf"
   ]
  },
  {
   "cell_type": "code",
   "execution_count": null,
   "metadata": {},
   "outputs": [],
   "source": [
    "df1 = slice_df(df, windows[0], minEminN)\n",
    "df2 = slice_df(df, windows[1], minEminN)\n",
    "df3 = slice_df(df, windows[2], minEminN)\n",
    "df4 = slice_df(df, windows[3], minEminN)"
   ]
  },
  {
   "cell_type": "code",
   "execution_count": 62,
   "metadata": {},
   "outputs": [],
   "source": [
    "h1 = pop_hier(df1, d_maxs)\n",
    "h2 = pop_hier(df2, d_maxs)\n",
    "h3 = pop_hier(df3, d_maxs)\n",
    "h4 = pop_hier(df4, d_maxs)"
   ]
  },
  {
   "cell_type": "code",
   "execution_count": null,
   "metadata": {},
   "outputs": [],
   "source": [
    "eps1, DM1 = eps_hier(h1, model='g') # 0s"
   ]
  },
  {
   "cell_type": "code",
   "execution_count": null,
   "metadata": {},
   "outputs": [],
   "source": [
    "eps2, DM2 = eps_hier(h2, model='g') # 16s"
   ]
  },
  {
   "cell_type": "code",
   "execution_count": null,
   "metadata": {},
   "outputs": [],
   "source": [
    "eps3, DM3 = eps_hier(h3, model='g') # Longer"
   ]
  },
  {
   "cell_type": "code",
   "execution_count": null,
   "metadata": {
    "scrolled": true
   },
   "outputs": [],
   "source": [
    "eps4, DM4 = eps_hier(h4, model='g') # 6:13"
   ]
  },
  {
   "cell_type": "code",
   "execution_count": 69,
   "metadata": {},
   "outputs": [],
   "source": [
    "epsList = [eps1[0], eps2[0], eps3[0], eps4[0]]\n",
    "DMList = [DM1[0], DM2[0], DM3[0], DM4[0]]"
   ]
  },
  {
   "cell_type": "code",
   "execution_count": 70,
   "metadata": {},
   "outputs": [
    {
     "data": {
      "image/png": "[encoded data removed]",
      "text/plain": [
       "<matplotlib.figure.Figure at 0x114742358>"
      ]
     },
     "metadata": {},
     "output_type": "display_data"
    }
   ],
   "source": [
    "eps_distance_hier(epsList, DMList, ['Tiny','Small','Medium','Big'], 40)\n",
    "plt.show()"
   ]
  },
  {
   "cell_type": "markdown",
   "metadata": {},
   "source": [
    "The tiny window is too small. The small one isn't too bad though - we could use this for testing perhaps."
   ]
  },
  {
   "cell_type": "code",
   "execution_count": 74,
   "metadata": {},
   "outputs": [
    {
     "data": {
      "text/plain": [
       "1231"
      ]
     },
     "execution_count": 74,
     "metadata": {},
     "output_type": "execute_result"
    }
   ],
   "source": [
    "len(df2)"
   ]
  },
  {
   "cell_type": "code",
   "execution_count": null,
   "metadata": {},
   "outputs": [],
   "source": [
    "small_df = df[df['Easting'] < 527530][df['Easting'] > 493171][df['Northing'] < 179073.5][df['Northing'] > 150941]"
   ]
  }
 ],
 "metadata": {
  "kernelspec": {
   "display_name": "Python 3",
   "language": "python",
   "name": "python3"
  },
  "language_info": {
   "codemirror_mode": {
    "name": "ipython",
    "version": 3
   },
   "file_extension": ".py",
   "mimetype": "text/x-python",
   "name": "python",
   "nbconvert_exporter": "python",
   "pygments_lexer": "ipython3",
   "version": "3.6.3"
  }
 },
 "nbformat": 4,
 "nbformat_minor": 2
}
