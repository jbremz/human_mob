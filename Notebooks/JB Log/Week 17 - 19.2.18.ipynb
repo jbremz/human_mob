{
 "cells": [
  {
   "cell_type": "markdown",
   "metadata": {},
   "source": [
    "# Week 17 - 19/2/18\n",
    "\n",
    "**OBJECTIVES**\n",
    "\n",
    "- Try out the tripoint gravity analysis with more realistic $\\gamma$"
   ]
  },
  {
   "cell_type": "code",
   "execution_count": 1,
   "metadata": {
    "scrolled": true
   },
   "outputs": [],
   "source": [
    "%load_ext autoreload\n",
    "%autoreload 2"
   ]
  },
  {
   "cell_type": "markdown",
   "metadata": {},
   "source": [
    "## More realistic $\\gamma$ for tripoint gravity model"
   ]
  },
  {
   "cell_type": "code",
   "execution_count": 2,
   "metadata": {},
   "outputs": [],
   "source": [
    "from hm.analysis.explicit_tripoint import anaTP, epsChangeY, epsChangeX, epsChangeGamma\n",
    "from hm.utils.utils import gamma_est"
   ]
  },
  {
   "cell_type": "markdown",
   "metadata": {},
   "source": [
    "For **exponential forward flow**"
   ]
  },
  {
   "cell_type": "markdown",
   "metadata": {},
   "source": [
    "First changing $r_{jk}$"
   ]
  },
  {
   "cell_type": "code",
   "execution_count": 53,
   "metadata": {},
   "outputs": [],
   "source": [
    "rjk_min = 0.001\n",
    "rjk_max = 0.04 \n",
    "rib = 0.4\n",
    "n = 100 \n",
    "N = 100\n",
    "S = 1/N\n",
    "gamma = 0.3 * (S)**(-0.18) # from Lenormand's formula (see Week 12)"
   ]
  },
  {
   "cell_type": "code",
   "execution_count": 40,
   "metadata": {},
   "outputs": [
    {
     "data": {
      "text/plain": [
       "0.6872602958303319"
      ]
     },
     "execution_count": 40,
     "metadata": {},
     "output_type": "execute_result"
    }
   ],
   "source": [
    "gamma"
   ]
  },
  {
   "cell_type": "markdown",
   "metadata": {},
   "source": [
    "We were using $\\gamma=2$ originally."
   ]
  },
  {
   "cell_type": "code",
   "execution_count": 24,
   "metadata": {
    "scrolled": true
   },
   "outputs": [
    {
     "data": {
      "application/vnd.jupyter.widget-view+json": {
       "model_id": "2327c1e8faae4e9cb6b2eb0a6c2d6d99",
       "version_major": 2,
       "version_minor": 0
      },
      "text/html": [
       "<p>Failed to display Jupyter Widget of type <code>HBox</code>.</p>\n",
       "<p>\n",
       "  If you're reading this message in Jupyter Notebook or JupyterLab, it may mean\n",
       "  that the widgets JavaScript is still loading. If this message persists, it\n",
       "  likely means that the widgets JavaScript library is either not installed or\n",
       "  not enabled. See the <a href=\"https://ipywidgets.readthedocs.io/en/stable/user_install.html\">Jupyter\n",
       "  Widgets Documentation</a> for setup instructions.\n",
       "</p>\n",
       "<p>\n",
       "  If you're reading this message in another notebook frontend (for example, a static\n",
       "  rendering on GitHub or <a href=\"https://nbviewer.jupyter.org/\">NBViewer</a>),\n",
       "  it may mean that your frontend doesn't currently support widgets.\n",
       "</p>\n"
      ],
      "text/plain": [
       "HBox(children=(IntProgress(value=0), HTML(value='')))"
      ]
     },
     "metadata": {},
     "output_type": "display_data"
    },
    {
     "name": "stderr",
     "output_type": "stream",
     "text": [
      "/Users/JBremner/Documents/Docs/Imperial/Msci Project/Code/human_mob/hm/analysis/explicit_tripoint.py:65: RuntimeWarning: divide by zero encountered in double_scalars\n",
      "  eps = 1 - (mobObj3.flux(0,1)+mobObj3.flux(0,2))/mobObj2.flux(0,1)\n"
     ]
    },
    {
     "name": "stdout",
     "output_type": "stream",
     "text": [
      "\n"
     ]
    },
    {
     "data": {
      "image/png": "[encoded data removed]",
      "text/plain": [
       "<matplotlib.figure.Figure at 0x116dc56a0>"
      ]
     },
     "metadata": {},
     "output_type": "display_data"
    }
   ],
   "source": [
    "epsChangeY(rjk_min, rjk_max, rib, n, N, ib=True, analytical=True, gamma=gamma, exp=True)"
   ]
  },
  {
   "cell_type": "code",
   "execution_count": 54,
   "metadata": {},
   "outputs": [
    {
     "data": {
      "application/vnd.jupyter.widget-view+json": {
       "model_id": "5856ceb320144210bc52df1e5b4c599a",
       "version_major": 2,
       "version_minor": 0
      },
      "text/html": [
       "<p>Failed to display Jupyter Widget of type <code>HBox</code>.</p>\n",
       "<p>\n",
       "  If you're reading this message in Jupyter Notebook or JupyterLab, it may mean\n",
       "  that the widgets JavaScript is still loading. If this message persists, it\n",
       "  likely means that the widgets JavaScript library is either not installed or\n",
       "  not enabled. See the <a href=\"https://ipywidgets.readthedocs.io/en/stable/user_install.html\">Jupyter\n",
       "  Widgets Documentation</a> for setup instructions.\n",
       "</p>\n",
       "<p>\n",
       "  If you're reading this message in another notebook frontend (for example, a static\n",
       "  rendering on GitHub or <a href=\"https://nbviewer.jupyter.org/\">NBViewer</a>),\n",
       "  it may mean that your frontend doesn't currently support widgets.\n",
       "</p>\n"
      ],
      "text/plain": [
       "HBox(children=(IntProgress(value=0), HTML(value='')))"
      ]
     },
     "metadata": {},
     "output_type": "display_data"
    },
    {
     "name": "stderr",
     "output_type": "stream",
     "text": [
      "/Users/JBremner/Documents/Docs/Imperial/Msci Project/Code/human_mob/hm/analysis/explicit_tripoint.py:68: RuntimeWarning: divide by zero encountered in double_scalars\n",
      "  eps = 1 - (mobObj3.flux(0,1, probs=False)+mobObj3.flux(0,2))/mobObj2.flux(0,1, probs=False)\n"
     ]
    },
    {
     "name": "stdout",
     "output_type": "stream",
     "text": [
      "\n"
     ]
    },
    {
     "data": {
      "image/png": "[encoded data removed]",
      "text/plain": [
       "<matplotlib.figure.Figure at 0x10fead9b0>"
      ]
     },
     "metadata": {},
     "output_type": "display_data"
    },
    {
     "data": {
      "text/plain": [
       "array([[ 0.01      ,         inf],\n",
       "       [ 0.01393939,         inf],\n",
       "       [ 0.01787879,         inf],\n",
       "       [ 0.02181818,         inf],\n",
       "       [ 0.02575758,         inf],\n",
       "       [ 0.02969697,         inf],\n",
       "       [ 0.03363636,         inf],\n",
       "       [ 0.03757576,         inf],\n",
       "       [ 0.04151515,         inf],\n",
       "       [ 0.04545455,         inf],\n",
       "       [ 0.04939394,         inf],\n",
       "       [ 0.05333333,         inf],\n",
       "       [ 0.05727273,         inf],\n",
       "       [ 0.06121212,         inf],\n",
       "       [ 0.06515152,         inf],\n",
       "       [ 0.06909091,         inf],\n",
       "       [ 0.0730303 ,         inf],\n",
       "       [ 0.0769697 ,         inf],\n",
       "       [ 0.08090909,         inf],\n",
       "       [ 0.08484848,         inf],\n",
       "       [ 0.08878788,         inf],\n",
       "       [ 0.09272727,         inf],\n",
       "       [ 0.09666667,         inf],\n",
       "       [ 0.10060606,         inf],\n",
       "       [ 0.10454545,         inf],\n",
       "       [ 0.10848485,         inf],\n",
       "       [ 0.11242424,         inf],\n",
       "       [ 0.11636364,         inf],\n",
       "       [ 0.12030303,         inf],\n",
       "       [ 0.12424242,         inf],\n",
       "       [ 0.12818182,         inf],\n",
       "       [ 0.13212121,         inf],\n",
       "       [ 0.13606061,         inf],\n",
       "       [ 0.14      ,         inf],\n",
       "       [ 0.14393939,         inf],\n",
       "       [ 0.14787879,         inf],\n",
       "       [ 0.15181818,         inf],\n",
       "       [ 0.15575758,         inf],\n",
       "       [ 0.15969697,         inf],\n",
       "       [ 0.16363636,         inf],\n",
       "       [ 0.16757576,         inf],\n",
       "       [ 0.17151515,         inf],\n",
       "       [ 0.17545455,         inf],\n",
       "       [ 0.17939394,         inf],\n",
       "       [ 0.18333333,         inf],\n",
       "       [ 0.18727273,         inf],\n",
       "       [ 0.19121212,         inf],\n",
       "       [ 0.19515152,         inf],\n",
       "       [ 0.19909091,         inf],\n",
       "       [ 0.2030303 ,         inf],\n",
       "       [ 0.2069697 ,         inf],\n",
       "       [ 0.21090909,         inf],\n",
       "       [ 0.21484848,         inf],\n",
       "       [ 0.21878788,         inf],\n",
       "       [ 0.22272727,         inf],\n",
       "       [ 0.22666667,         inf],\n",
       "       [ 0.23060606,         inf],\n",
       "       [ 0.23454545,         inf],\n",
       "       [ 0.23848485,         inf],\n",
       "       [ 0.24242424,         inf],\n",
       "       [ 0.24636364,         inf],\n",
       "       [ 0.25030303,         inf],\n",
       "       [ 0.25424242,         inf],\n",
       "       [ 0.25818182,         inf],\n",
       "       [ 0.26212121,         inf],\n",
       "       [ 0.26606061,         inf],\n",
       "       [ 0.27      ,         inf],\n",
       "       [ 0.27393939,         inf],\n",
       "       [ 0.27787879,         inf],\n",
       "       [ 0.28181818,         inf],\n",
       "       [ 0.28575758,         inf],\n",
       "       [ 0.28969697,         inf],\n",
       "       [ 0.29363636,         inf],\n",
       "       [ 0.29757576,         inf],\n",
       "       [ 0.30151515,         inf],\n",
       "       [ 0.30545455,         inf],\n",
       "       [ 0.30939394,         inf],\n",
       "       [ 0.31333333,         inf],\n",
       "       [ 0.31727273,         inf],\n",
       "       [ 0.32121212,         inf],\n",
       "       [ 0.32515152,         inf],\n",
       "       [ 0.32909091,         inf],\n",
       "       [ 0.3330303 ,         inf],\n",
       "       [ 0.3369697 ,         inf],\n",
       "       [ 0.34090909,         inf],\n",
       "       [ 0.34484848,         inf],\n",
       "       [ 0.34878788,         inf],\n",
       "       [ 0.35272727,         inf],\n",
       "       [ 0.35666667,         inf],\n",
       "       [ 0.36060606,         inf],\n",
       "       [ 0.36454545,         inf],\n",
       "       [ 0.36848485,         inf],\n",
       "       [ 0.37242424,         inf],\n",
       "       [ 0.37636364,         inf],\n",
       "       [ 0.38030303,         inf],\n",
       "       [ 0.38424242,         inf],\n",
       "       [ 0.38818182,         inf],\n",
       "       [ 0.39212121,         inf],\n",
       "       [ 0.39606061,         inf],\n",
       "       [ 0.4       ,         inf]])"
      ]
     },
     "execution_count": 54,
     "metadata": {},
     "output_type": "execute_result"
    }
   ],
   "source": [
    "epsChangeY(rjk_min, rjk_max, rib, n, N, ib=True, analytical=False, gamma=2, exp=True)"
   ]
  },
  {
   "cell_type": "markdown",
   "metadata": {},
   "source": [
    "Now for change in $r_{ib}$"
   ]
  },
  {
   "cell_type": "code",
   "execution_count": 35,
   "metadata": {},
   "outputs": [],
   "source": [
    "rib_min = 0.001\n",
    "rib_max = 0.3\n",
    "rjk = 0.03\n",
    "n = 100\n",
    "N = 100\n",
    "S = 1/N\n",
    "gamma = 0.3 * (S)**(-0.18) # from Lenormand's formula (see Week 12)"
   ]
  },
  {
   "cell_type": "code",
   "execution_count": 32,
   "metadata": {},
   "outputs": [
    {
     "data": {
      "text/plain": [
       "0.6872602958303319"
      ]
     },
     "execution_count": 32,
     "metadata": {},
     "output_type": "execute_result"
    }
   ],
   "source": [
    "gamma"
   ]
  },
  {
   "cell_type": "code",
   "execution_count": 55,
   "metadata": {},
   "outputs": [
    {
     "data": {
      "image/png": "[encoded data removed]",
      "text/plain": [
       "<matplotlib.figure.Figure at 0x10ff171d0>"
      ]
     },
     "metadata": {},
     "output_type": "display_data"
    },
    {
     "data": {
      "text/plain": [
       "array([[  1.00000000e-02,   2.65942735e-02],\n",
       "       [  4.02020202e-02,   2.18664202e-02],\n",
       "       [  7.04040404e-02,   1.81425556e-02],\n",
       "       [  1.00606061e-01,   1.52568260e-02],\n",
       "       [  1.30808081e-01,   1.30252413e-02],\n",
       "       [  1.61010101e-01,   1.12860789e-02],\n",
       "       [  1.91212121e-01,   9.91284854e-03],\n",
       "       [  2.21414141e-01,   8.81200193e-03],\n",
       "       [  2.51616162e-01,   7.91586462e-03],\n",
       "       [  2.81818182e-01,   7.17564740e-03],\n",
       "       [  3.12020202e-01,   6.55594921e-03],\n",
       "       [  3.42222222e-01,   6.03079039e-03],\n",
       "       [  3.72424242e-01,   5.58084648e-03],\n",
       "       [  4.02626263e-01,   5.19153888e-03],\n",
       "       [  4.32828283e-01,   4.85171478e-03],\n",
       "       [  4.63030303e-01,   4.55272723e-03],\n",
       "       [  4.93232323e-01,   4.28778705e-03],\n",
       "       [  5.23434343e-01,   4.05150064e-03],\n",
       "       [  5.53636364e-01,   3.83953597e-03],\n",
       "       [  5.83838384e-01,   3.64837826e-03],\n",
       "       [  6.14040404e-01,   3.47514898e-03],\n",
       "       [  6.44242424e-01,   3.31747012e-03],\n",
       "       [  6.74444444e-01,   3.17336134e-03],\n",
       "       [  7.04646465e-01,   3.04116116e-03],\n",
       "       [  7.34848485e-01,   2.91946594e-03],\n",
       "       [  7.65050505e-01,   2.80708222e-03],\n",
       "       [  7.95252525e-01,   2.70298915e-03],\n",
       "       [  8.25454545e-01,   2.60630867e-03],\n",
       "       [  8.55656566e-01,   2.51628153e-03],\n",
       "       [  8.85858586e-01,   2.43224804e-03],\n",
       "       [  9.16060606e-01,   2.35363235e-03],\n",
       "       [  9.46262626e-01,   2.27992967e-03],\n",
       "       [  9.76464646e-01,   2.21069563e-03],\n",
       "       [  1.00666667e+00,   2.14553764e-03],\n",
       "       [  1.03686869e+00,   2.08410753e-03],\n",
       "       [  1.06707071e+00,   2.02609552e-03],\n",
       "       [  1.09727273e+00,   1.97122505e-03],\n",
       "       [  1.12747475e+00,   1.91924852e-03],\n",
       "       [  1.15767677e+00,   1.86994358e-03],\n",
       "       [  1.18787879e+00,   1.82311000e-03],\n",
       "       [  1.21808081e+00,   1.77856700e-03],\n",
       "       [  1.24828283e+00,   1.73615099e-03],\n",
       "       [  1.27848485e+00,   1.69571353e-03],\n",
       "       [  1.30868687e+00,   1.65711964e-03],\n",
       "       [  1.33888889e+00,   1.62024633e-03],\n",
       "       [  1.36909091e+00,   1.58498128e-03],\n",
       "       [  1.39929293e+00,   1.55122170e-03],\n",
       "       [  1.42949495e+00,   1.51887339e-03],\n",
       "       [  1.45969697e+00,   1.48784979e-03],\n",
       "       [  1.48989899e+00,   1.45807130e-03],\n",
       "       [  1.52010101e+00,   1.42946453e-03],\n",
       "       [  1.55030303e+00,   1.40196174e-03],\n",
       "       [  1.58050505e+00,   1.37550031e-03],\n",
       "       [  1.61070707e+00,   1.35002224e-03],\n",
       "       [  1.64090909e+00,   1.32547377e-03],\n",
       "       [  1.67111111e+00,   1.30180496e-03],\n",
       "       [  1.70131313e+00,   1.27896939e-03],\n",
       "       [  1.73151515e+00,   1.25692383e-03],\n",
       "       [  1.76171717e+00,   1.23562801e-03],\n",
       "       [  1.79191919e+00,   1.21504432e-03],\n",
       "       [  1.82212121e+00,   1.19513762e-03],\n",
       "       [  1.85232323e+00,   1.17587507e-03],\n",
       "       [  1.88252525e+00,   1.15722589e-03],\n",
       "       [  1.91272727e+00,   1.13916124e-03],\n",
       "       [  1.94292929e+00,   1.12165405e-03],\n",
       "       [  1.97313131e+00,   1.10467890e-03],\n",
       "       [  2.00333333e+00,   1.08821190e-03],\n",
       "       [  2.03353535e+00,   1.07223056e-03],\n",
       "       [  2.06373737e+00,   1.05671370e-03],\n",
       "       [  2.09393939e+00,   1.04164135e-03],\n",
       "       [  2.12414141e+00,   1.02699467e-03],\n",
       "       [  2.15434343e+00,   1.01275587e-03],\n",
       "       [  2.18454545e+00,   9.98908152e-04],\n",
       "       [  2.21474747e+00,   9.85435600e-04],\n",
       "       [  2.24494949e+00,   9.72323169e-04],\n",
       "       [  2.27515152e+00,   9.59556603e-04],\n",
       "       [  2.30535354e+00,   9.47122386e-04],\n",
       "       [  2.33555556e+00,   9.35007698e-04],\n",
       "       [  2.36575758e+00,   9.23200370e-04],\n",
       "       [  2.39595960e+00,   9.11688842e-04],\n",
       "       [  2.42616162e+00,   9.00462124e-04],\n",
       "       [  2.45636364e+00,   8.89509764e-04],\n",
       "       [  2.48656566e+00,   8.78821816e-04],\n",
       "       [  2.51676768e+00,   8.68388805e-04],\n",
       "       [  2.54696970e+00,   8.58201705e-04],\n",
       "       [  2.57717172e+00,   8.48251908e-04],\n",
       "       [  2.60737374e+00,   8.38531204e-04],\n",
       "       [  2.63757576e+00,   8.29031754e-04],\n",
       "       [  2.66777778e+00,   8.19746074e-04],\n",
       "       [  2.69797980e+00,   8.10667011e-04],\n",
       "       [  2.72818182e+00,   8.01787727e-04],\n",
       "       [  2.75838384e+00,   7.93101681e-04],\n",
       "       [  2.78858586e+00,   7.84602613e-04],\n",
       "       [  2.81878788e+00,   7.76284530e-04],\n",
       "       [  2.84898990e+00,   7.68141690e-04],\n",
       "       [  2.87919192e+00,   7.60168593e-04],\n",
       "       [  2.90939394e+00,   7.52359961e-04],\n",
       "       [  2.93959596e+00,   7.44710736e-04],\n",
       "       [  2.96979798e+00,   7.37216061e-04],\n",
       "       [  3.00000000e+00,   7.29871276e-04]])"
      ]
     },
     "execution_count": 55,
     "metadata": {},
     "output_type": "execute_result"
    }
   ],
   "source": [
    "epsChangeX(rib_min, rib_max, rjk, n, N, ib=True, analytical=True, gamma=2, exp=True)"
   ]
  },
  {
   "cell_type": "markdown",
   "metadata": {},
   "source": [
    "hmm something's wrong here - doesn't match up with week 6."
   ]
  }
 ],
 "metadata": {
  "kernelspec": {
   "display_name": "Python 3",
   "language": "python",
   "name": "python3"
  },
  "language_info": {
   "codemirror_mode": {
    "name": "ipython",
    "version": 3
   },
   "file_extension": ".py",
   "mimetype": "text/x-python",
   "name": "python",
   "nbconvert_exporter": "python",
   "pygments_lexer": "ipython3",
   "version": "3.6.3"
  }
 },
 "nbformat": 4,
 "nbformat_minor": 2
}
