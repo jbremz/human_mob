{
 "cells": [
  {
   "cell_type": "markdown",
   "metadata": {},
   "source": [
    "# Week 17 - 19/2/18\n",
    "\n",
    "**OBJECTIVES**\n",
    "\n",
    "- Try out the tripoint gravity analysis with more realistic $\\gamma$"
   ]
  },
  {
   "cell_type": "code",
   "execution_count": 1,
   "metadata": {
    "scrolled": true
   },
   "outputs": [],
   "source": [
    "%load_ext autoreload\n",
    "%autoreload 2"
   ]
  },
  {
   "cell_type": "markdown",
   "metadata": {},
   "source": [
    "## More realistic $\\gamma$ for tripoint gravity model"
   ]
  },
  {
   "cell_type": "code",
   "execution_count": 2,
   "metadata": {},
   "outputs": [],
   "source": [
    "from hm.analysis.explicit_tripoint import anaTP, epsChangeY, epsChangeX, epsChangeGamma\n",
    "from hm.utils.utils import gamma_est"
   ]
  },
  {
   "cell_type": "markdown",
   "metadata": {},
   "source": [
    "For **exponential forward flow**"
   ]
  },
  {
   "cell_type": "markdown",
   "metadata": {},
   "source": [
    "First changing $r_{jk}$"
   ]
  },
  {
   "cell_type": "code",
   "execution_count": 39,
   "metadata": {},
   "outputs": [],
   "source": [
    "rjk_min = 0.001\n",
    "rjk_max = 0.04 \n",
    "rib = 0.4\n",
    "n = 100 \n",
    "N = 100\n",
    "S = 1/N\n",
    "gamma = 0.3 * (S)**(-0.18) # from Lenormand's formula (see Week 12)"
   ]
  },
  {
   "cell_type": "code",
   "execution_count": 40,
   "metadata": {},
   "outputs": [
    {
     "data": {
      "text/plain": [
       "0.6872602958303319"
      ]
     },
     "execution_count": 40,
     "metadata": {},
     "output_type": "execute_result"
    }
   ],
   "source": [
    "gamma"
   ]
  },
  {
   "cell_type": "markdown",
   "metadata": {},
   "source": [
    "We were using $\\gamma=2$ originally."
   ]
  },
  {
   "cell_type": "code",
   "execution_count": 24,
   "metadata": {
    "scrolled": true
   },
   "outputs": [
    {
     "data": {
      "application/vnd.jupyter.widget-view+json": {
       "model_id": "2327c1e8faae4e9cb6b2eb0a6c2d6d99",
       "version_major": 2,
       "version_minor": 0
      },
      "text/html": [
       "<p>Failed to display Jupyter Widget of type <code>HBox</code>.</p>\n",
       "<p>\n",
       "  If you're reading this message in Jupyter Notebook or JupyterLab, it may mean\n",
       "  that the widgets JavaScript is still loading. If this message persists, it\n",
       "  likely means that the widgets JavaScript library is either not installed or\n",
       "  not enabled. See the <a href=\"https://ipywidgets.readthedocs.io/en/stable/user_install.html\">Jupyter\n",
       "  Widgets Documentation</a> for setup instructions.\n",
       "</p>\n",
       "<p>\n",
       "  If you're reading this message in another notebook frontend (for example, a static\n",
       "  rendering on GitHub or <a href=\"https://nbviewer.jupyter.org/\">NBViewer</a>),\n",
       "  it may mean that your frontend doesn't currently support widgets.\n",
       "</p>\n"
      ],
      "text/plain": [
       "HBox(children=(IntProgress(value=0), HTML(value='')))"
      ]
     },
     "metadata": {},
     "output_type": "display_data"
    },
    {
     "name": "stderr",
     "output_type": "stream",
     "text": [
      "/Users/JBremner/Documents/Docs/Imperial/Msci Project/Code/human_mob/hm/analysis/explicit_tripoint.py:65: RuntimeWarning: divide by zero encountered in double_scalars\n",
      "  eps = 1 - (mobObj3.flux(0,1)+mobObj3.flux(0,2))/mobObj2.flux(0,1)\n"
     ]
    },
    {
     "name": "stdout",
     "output_type": "stream",
     "text": [
      "\n"
     ]
    },
    {
     "data": {
      "image/png": "[encoded data removed]",
      "text/plain": [
       "<matplotlib.figure.Figure at 0x116dc56a0>"
      ]
     },
     "metadata": {},
     "output_type": "display_data"
    }
   ],
   "source": [
    "epsChangeY(rjk_min, rjk_max, rib, n, N, ib=True, analytical=True, gamma=gamma, exp=True)"
   ]
  },
  {
   "cell_type": "code",
   "execution_count": 49,
   "metadata": {},
   "outputs": [
    {
     "data": {
      "application/vnd.jupyter.widget-view+json": {
       "model_id": "82b32c5f6c3a45c4b3cf8ccb00a48b6f",
       "version_major": 2,
       "version_minor": 0
      },
      "text/html": [
       "<p>Failed to display Jupyter Widget of type <code>HBox</code>.</p>\n",
       "<p>\n",
       "  If you're reading this message in Jupyter Notebook or JupyterLab, it may mean\n",
       "  that the widgets JavaScript is still loading. If this message persists, it\n",
       "  likely means that the widgets JavaScript library is either not installed or\n",
       "  not enabled. See the <a href=\"https://ipywidgets.readthedocs.io/en/stable/user_install.html\">Jupyter\n",
       "  Widgets Documentation</a> for setup instructions.\n",
       "</p>\n",
       "<p>\n",
       "  If you're reading this message in another notebook frontend (for example, a static\n",
       "  rendering on GitHub or <a href=\"https://nbviewer.jupyter.org/\">NBViewer</a>),\n",
       "  it may mean that your frontend doesn't currently support widgets.\n",
       "</p>\n"
      ],
      "text/plain": [
       "HBox(children=(IntProgress(value=0), HTML(value='')))"
      ]
     },
     "metadata": {},
     "output_type": "display_data"
    },
    {
     "name": "stderr",
     "output_type": "stream",
     "text": [
      "/Users/JBremner/Documents/Docs/Imperial/Msci Project/Code/human_mob/hm/analysis/explicit_tripoint.py:65: RuntimeWarning: divide by zero encountered in double_scalars\n",
      "  eps = 1 - (mobObj3.flux(0,1)+mobObj3.flux(0,2))/mobObj2.flux(0,1)\n"
     ]
    },
    {
     "name": "stdout",
     "output_type": "stream",
     "text": [
      "\n"
     ]
    },
    {
     "data": {
      "image/png": "[encoded data removed]",
      "text/plain": [
       "<matplotlib.figure.Figure at 0x10fd0e668>"
      ]
     },
     "metadata": {},
     "output_type": "display_data"
    },
    {
     "data": {
      "text/plain": [
       "array([[ 0.01      ,         inf],\n",
       "       [ 0.01393939,         inf],\n",
       "       [ 0.01787879,         inf],\n",
       "       [ 0.02181818,         inf],\n",
       "       [ 0.02575758,         inf],\n",
       "       [ 0.02969697,         inf],\n",
       "       [ 0.03363636,         inf],\n",
       "       [ 0.03757576,         inf],\n",
       "       [ 0.04151515,         inf],\n",
       "       [ 0.04545455,         inf],\n",
       "       [ 0.04939394,         inf],\n",
       "       [ 0.05333333,         inf],\n",
       "       [ 0.05727273,         inf],\n",
       "       [ 0.06121212,         inf],\n",
       "       [ 0.06515152,         inf],\n",
       "       [ 0.06909091,         inf],\n",
       "       [ 0.0730303 ,         inf],\n",
       "       [ 0.0769697 ,         inf],\n",
       "       [ 0.08090909,         inf],\n",
       "       [ 0.08484848,         inf],\n",
       "       [ 0.08878788,         inf],\n",
       "       [ 0.09272727,         inf],\n",
       "       [ 0.09666667,         inf],\n",
       "       [ 0.10060606,         inf],\n",
       "       [ 0.10454545,         inf],\n",
       "       [ 0.10848485,         inf],\n",
       "       [ 0.11242424,         inf],\n",
       "       [ 0.11636364,         inf],\n",
       "       [ 0.12030303,         inf],\n",
       "       [ 0.12424242,         inf],\n",
       "       [ 0.12818182,         inf],\n",
       "       [ 0.13212121,         inf],\n",
       "       [ 0.13606061,         inf],\n",
       "       [ 0.14      ,         inf],\n",
       "       [ 0.14393939,         inf],\n",
       "       [ 0.14787879,         inf],\n",
       "       [ 0.15181818,         inf],\n",
       "       [ 0.15575758,         inf],\n",
       "       [ 0.15969697,         inf],\n",
       "       [ 0.16363636,         inf],\n",
       "       [ 0.16757576,         inf],\n",
       "       [ 0.17151515,         inf],\n",
       "       [ 0.17545455,         inf],\n",
       "       [ 0.17939394,         inf],\n",
       "       [ 0.18333333,         inf],\n",
       "       [ 0.18727273,         inf],\n",
       "       [ 0.19121212,         inf],\n",
       "       [ 0.19515152,         inf],\n",
       "       [ 0.19909091,         inf],\n",
       "       [ 0.2030303 ,         inf],\n",
       "       [ 0.2069697 ,         inf],\n",
       "       [ 0.21090909,         inf],\n",
       "       [ 0.21484848,         inf],\n",
       "       [ 0.21878788,         inf],\n",
       "       [ 0.22272727,         inf],\n",
       "       [ 0.22666667,         inf],\n",
       "       [ 0.23060606,         inf],\n",
       "       [ 0.23454545,         inf],\n",
       "       [ 0.23848485,         inf],\n",
       "       [ 0.24242424,         inf],\n",
       "       [ 0.24636364,         inf],\n",
       "       [ 0.25030303,         inf],\n",
       "       [ 0.25424242,         inf],\n",
       "       [ 0.25818182,         inf],\n",
       "       [ 0.26212121,         inf],\n",
       "       [ 0.26606061,         inf],\n",
       "       [ 0.27      ,         inf],\n",
       "       [ 0.27393939,         inf],\n",
       "       [ 0.27787879,         inf],\n",
       "       [ 0.28181818,         inf],\n",
       "       [ 0.28575758,         inf],\n",
       "       [ 0.28969697,         inf],\n",
       "       [ 0.29363636,         inf],\n",
       "       [ 0.29757576,         inf],\n",
       "       [ 0.30151515,         inf],\n",
       "       [ 0.30545455,         inf],\n",
       "       [ 0.30939394,         inf],\n",
       "       [ 0.31333333,         inf],\n",
       "       [ 0.31727273,         inf],\n",
       "       [ 0.32121212,         inf],\n",
       "       [ 0.32515152,         inf],\n",
       "       [ 0.32909091,         inf],\n",
       "       [ 0.3330303 ,         inf],\n",
       "       [ 0.3369697 ,         inf],\n",
       "       [ 0.34090909,         inf],\n",
       "       [ 0.34484848,         inf],\n",
       "       [ 0.34878788,         inf],\n",
       "       [ 0.35272727,         inf],\n",
       "       [ 0.35666667,         inf],\n",
       "       [ 0.36060606,         inf],\n",
       "       [ 0.36454545,         inf],\n",
       "       [ 0.36848485,         inf],\n",
       "       [ 0.37242424,         inf],\n",
       "       [ 0.37636364,         inf],\n",
       "       [ 0.38030303,         inf],\n",
       "       [ 0.38424242,         inf],\n",
       "       [ 0.38818182,         inf],\n",
       "       [ 0.39212121,         inf],\n",
       "       [ 0.39606061,         inf],\n",
       "       [ 0.4       ,         inf]])"
      ]
     },
     "execution_count": 49,
     "metadata": {},
     "output_type": "execute_result"
    }
   ],
   "source": [
    "epsChangeY(rjk_min, rjk_max, rib, n, N, ib=True, analytical=False, gamma=2, exp=True)"
   ]
  },
  {
   "cell_type": "markdown",
   "metadata": {},
   "source": [
    "Now for change in $r_{ib}$"
   ]
  },
  {
   "cell_type": "code",
   "execution_count": 35,
   "metadata": {},
   "outputs": [],
   "source": [
    "rib_min = 0.001\n",
    "rib_max = 0.3\n",
    "rjk = 0.03\n",
    "n = 100\n",
    "N = 100\n",
    "S = 1/N\n",
    "gamma = 0.3 * (S)**(-0.18) # from Lenormand's formula (see Week 12)"
   ]
  },
  {
   "cell_type": "code",
   "execution_count": 32,
   "metadata": {},
   "outputs": [
    {
     "data": {
      "text/plain": [
       "0.6872602958303319"
      ]
     },
     "execution_count": 32,
     "metadata": {},
     "output_type": "execute_result"
    }
   ],
   "source": [
    "gamma"
   ]
  },
  {
   "cell_type": "code",
   "execution_count": 50,
   "metadata": {},
   "outputs": [
    {
     "data": {
      "image/png": "[encoded data removed]",
      "text/plain": [
       "<matplotlib.figure.Figure at 0x110049470>"
      ]
     },
     "metadata": {},
     "output_type": "display_data"
    },
    {
     "data": {
      "text/plain": [
       "array([[ 0.01      ,  0.16739745],\n",
       "       [ 0.04020202,  0.16739745],\n",
       "       [ 0.07040404,  0.16739745],\n",
       "       [ 0.10060606,  0.16739745],\n",
       "       [ 0.13080808,  0.16739745],\n",
       "       [ 0.1610101 ,  0.16739745],\n",
       "       [ 0.19121212,  0.16739745],\n",
       "       [ 0.22141414,  0.16739745],\n",
       "       [ 0.25161616,  0.16739745],\n",
       "       [ 0.28181818,  0.16739745],\n",
       "       [ 0.3120202 ,  0.16739745],\n",
       "       [ 0.34222222,  0.16739745],\n",
       "       [ 0.37242424,  0.16739745],\n",
       "       [ 0.40262626,  0.16739745],\n",
       "       [ 0.43282828,  0.16739745],\n",
       "       [ 0.4630303 ,  0.16739745],\n",
       "       [ 0.49323232,  0.16739745],\n",
       "       [ 0.52343434,  0.16739745],\n",
       "       [ 0.55363636,  0.16739745],\n",
       "       [ 0.58383838,  0.16739745],\n",
       "       [ 0.6140404 ,  0.16739745],\n",
       "       [ 0.64424242,  0.16739745],\n",
       "       [ 0.67444444,  0.16739745],\n",
       "       [ 0.70464646,  0.16739745],\n",
       "       [ 0.73484848,  0.16739745],\n",
       "       [ 0.76505051,  0.16739745],\n",
       "       [ 0.79525253,  0.16739745],\n",
       "       [ 0.82545455,  0.16739745],\n",
       "       [ 0.85565657,  0.16739745],\n",
       "       [ 0.88585859,  0.16739745],\n",
       "       [ 0.91606061,  0.16739745],\n",
       "       [ 0.94626263,  0.16739745],\n",
       "       [ 0.97646465,  0.16739745],\n",
       "       [ 1.00666667,  0.16739745],\n",
       "       [ 1.03686869,  0.16739745],\n",
       "       [ 1.06707071,  0.16739745],\n",
       "       [ 1.09727273,  0.16739745],\n",
       "       [ 1.12747475,  0.16739745],\n",
       "       [ 1.15767677,  0.16739745],\n",
       "       [ 1.18787879,  0.16739745],\n",
       "       [ 1.21808081,  0.16739745],\n",
       "       [ 1.24828283,  0.16739745],\n",
       "       [ 1.27848485,  0.16739745],\n",
       "       [ 1.30868687,  0.16739745],\n",
       "       [ 1.33888889,  0.16739745],\n",
       "       [ 1.36909091,  0.16739745],\n",
       "       [ 1.39929293,  0.16739745],\n",
       "       [ 1.42949495,  0.16739745],\n",
       "       [ 1.45969697,  0.16739745],\n",
       "       [ 1.48989899,  0.16739745],\n",
       "       [ 1.52010101,  0.16739745],\n",
       "       [ 1.55030303,  0.16739745],\n",
       "       [ 1.58050505,  0.16739745],\n",
       "       [ 1.61070707,  0.16739745],\n",
       "       [ 1.64090909,  0.16739745],\n",
       "       [ 1.67111111,  0.16739745],\n",
       "       [ 1.70131313,  0.16739745],\n",
       "       [ 1.73151515,  0.16739745],\n",
       "       [ 1.76171717,  0.16739745],\n",
       "       [ 1.79191919,  0.16739745],\n",
       "       [ 1.82212121,  0.16739745],\n",
       "       [ 1.85232323,  0.16739745],\n",
       "       [ 1.88252525,  0.16739745],\n",
       "       [ 1.91272727,  0.16739745],\n",
       "       [ 1.94292929,  0.16739745],\n",
       "       [ 1.97313131,  0.16739745],\n",
       "       [ 2.00333333,  0.16739745],\n",
       "       [ 2.03353535,  0.16739745],\n",
       "       [ 2.06373737,  0.16739745],\n",
       "       [ 2.09393939,  0.16739745],\n",
       "       [ 2.12414141,  0.16739745],\n",
       "       [ 2.15434343,  0.16739745],\n",
       "       [ 2.18454545,  0.16739745],\n",
       "       [ 2.21474747,  0.16739745],\n",
       "       [ 2.24494949,  0.16739745],\n",
       "       [ 2.27515152,  0.16739745],\n",
       "       [ 2.30535354,  0.16739745],\n",
       "       [ 2.33555556,  0.16739745],\n",
       "       [ 2.36575758,  0.16739745],\n",
       "       [ 2.3959596 ,  0.16739745],\n",
       "       [ 2.42616162,  0.16739745],\n",
       "       [ 2.45636364,  0.16739745],\n",
       "       [ 2.48656566,  0.16739745],\n",
       "       [ 2.51676768,  0.16739745],\n",
       "       [ 2.5469697 ,  0.16739745],\n",
       "       [ 2.57717172,  0.16739745],\n",
       "       [ 2.60737374,  0.16739745],\n",
       "       [ 2.63757576,  0.16739745],\n",
       "       [ 2.66777778,  0.16739745],\n",
       "       [ 2.6979798 ,  0.16739745],\n",
       "       [ 2.72818182,  0.16739745],\n",
       "       [ 2.75838384,  0.16739745],\n",
       "       [ 2.78858586,  0.16739745],\n",
       "       [ 2.81878788,  0.16739745],\n",
       "       [ 2.8489899 ,  0.16739745],\n",
       "       [ 2.87919192,  0.16739745],\n",
       "       [ 2.90939394,  0.16739745],\n",
       "       [ 2.93959596,  0.16739745],\n",
       "       [ 2.96979798,  0.16739745],\n",
       "       [ 3.        ,  0.16739745]])"
      ]
     },
     "execution_count": 50,
     "metadata": {},
     "output_type": "execute_result"
    }
   ],
   "source": [
    "epsChangeX(rib_min, rib_max, rjk, n, N, ib=True, analytical=True, gamma=gamma, exp=True)"
   ]
  },
  {
   "cell_type": "markdown",
   "metadata": {},
   "source": [
    "hmm something's wrong here - doesn't match up with week 6."
   ]
  }
 ],
 "metadata": {
  "kernelspec": {
   "display_name": "Python 3",
   "language": "python",
   "name": "python3"
  },
  "language_info": {
   "codemirror_mode": {
    "name": "ipython",
    "version": 3
   },
   "file_extension": ".py",
   "mimetype": "text/x-python",
   "name": "python",
   "nbconvert_exporter": "python",
   "pygments_lexer": "ipython3",
   "version": "3.6.3"
  }
 },
 "nbformat": 4,
 "nbformat_minor": 2
}
