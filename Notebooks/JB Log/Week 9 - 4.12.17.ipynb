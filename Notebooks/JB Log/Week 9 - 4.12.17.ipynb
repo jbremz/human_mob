{
 "cells": [
  {
   "cell_type": "markdown",
   "metadata": {},
   "source": [
    "# Week 9 - 4/12/17\n",
    "\n",
    "\n",
    "**Main objectives:**\n",
    "\n",
    "- Start thinking about population distributions"
   ]
  },
  {
   "cell_type": "markdown",
   "metadata": {},
   "source": [
    "## Population Model Notes\n",
    "\n",
    "\n",
    "- Batty Chapter on DBM and DLA CA Models - http://www.fractalcities.org/book/Fractal%20Cities%20Chapter%208.pdf\n",
    "- DLA Cluster Python implementation - https://github.com/ksenia007/dlaCluster\n",
    "- Cellular Automata and Urban Form: A Primer - http://www.casa.ucl.ac.uk/rits/BATTY-JAPA-1997.pdf\n",
    "- The MOLAND model variant (with gravity) - http://www.geocomputation.org/2017/papers/79.pdf  \n",
    "\n",
    "Some of these would take a while to run, we might as well use real data if it is easy to find? \n",
    "\n",
    "How are the ward locations defined? As the centre of mass?\n",
    "\n",
    "## Real Data Notes\n",
    "\n",
    "**CIESIN Data**\n",
    "\n",
    "Here's some hi-res population data we can use - https://ciesin.columbia.edu/data/hrsl/\n",
    "\n",
    "Uses WGS84 so we're going to have to project the data onto a coordinate system in metres somehow."
   ]
  }
 ],
 "metadata": {
  "kernelspec": {
   "display_name": "Python 3",
   "language": "python",
   "name": "python3"
  },
  "language_info": {
   "codemirror_mode": {
    "name": "ipython",
    "version": 3
   },
   "file_extension": ".py",
   "mimetype": "text/x-python",
   "name": "python",
   "nbconvert_exporter": "python",
   "pygments_lexer": "ipython3",
   "version": "3.6.3"
  }
 },
 "nbformat": 4,
 "nbformat_minor": 2
}
